{
 "cells": [
  {
   "cell_type": "code",
   "execution_count": 1,
   "id": "906bbb76",
   "metadata": {},
   "outputs": [],
   "source": [
    "import os\n",
    "import pandas as pd"
   ]
  },
  {
   "cell_type": "code",
   "execution_count": 2,
   "id": "b721d75f",
   "metadata": {},
   "outputs": [],
   "source": [
    "def read_csv_to_dataframe(file_path):\n",
    "    \"\"\"\n",
    "    Reads a CSV file and returns a pandas DataFrame.\n",
    "    \n",
    "    Parameters:\n",
    "    file_path (str): The path to the CSV file.\n",
    "    \n",
    "    Returns:\n",
    "    pd.DataFrame: The DataFrame containing the CSV data.\n",
    "    \"\"\"\n",
    "    try:\n",
    "        df = pd.read_csv(file_path)\n",
    "        return df\n",
    "    except Exception as e:\n",
    "        print(f\"Error reading {file_path}: {e}\")\n",
    "        return None\n",
    "    "
   ]
  },
  {
   "cell_type": "code",
   "execution_count": null,
   "id": "845fbbbb",
   "metadata": {},
   "outputs": [
    {
     "name": "stdout",
     "output_type": "stream",
     "text": [
      "                   Time        Hs        Tp         Dir\n",
      "0  01-May-2015 00:00:00  1.033688  6.355257  331.281738\n",
      "1  01-May-2015 01:00:00  1.004278  6.273386  331.360840\n",
      "2  01-May-2015 02:00:00  0.973689  6.220096  331.355957\n",
      "3  01-May-2015 03:00:00  0.942373  6.185501  331.278564\n",
      "4  01-May-2015 04:00:00  0.912359  6.158005  331.172119\n",
      "5  01-May-2015 05:00:00  0.884466  6.129316  331.008545\n",
      "6  01-May-2015 06:00:00  0.858502  6.092018  330.866943\n",
      "7  01-May-2015 07:00:00  0.834234  6.051621  330.776123\n",
      "8  01-May-2015 08:00:00  0.811684  6.005931  330.753662\n",
      "9  01-May-2015 09:00:00  0.791113  5.951072  330.812744\n"
     ]
    }
   ],
   "source": [
    "oleaje_era5=read_csv_to_dataframe('wave_era5_2015.csv')\n",
    "print(oleaje_era5.head(10))\n"
   ]
  },
  {
   "cell_type": "code",
   "execution_count": 8,
   "id": "64bb261b",
   "metadata": {},
   "outputs": [
    {
     "name": "stdout",
     "output_type": "stream",
     "text": [
      "<class 'pandas.core.frame.DataFrame'>\n",
      "RangeIndex: 721 entries, 0 to 720\n",
      "Data columns (total 4 columns):\n",
      " #   Column  Non-Null Count  Dtype  \n",
      "---  ------  --------------  -----  \n",
      " 0   Time    721 non-null    object \n",
      " 1   Hs      721 non-null    float64\n",
      " 2   Tp      721 non-null    float64\n",
      " 3   Dir     721 non-null    float64\n",
      "dtypes: float64(3), object(1)\n",
      "memory usage: 22.7+ KB\n",
      "None\n"
     ]
    }
   ],
   "source": [
    "print(oleaje_era5.info())"
   ]
  },
  {
   "cell_type": "code",
   "execution_count": 7,
   "id": "993011d6",
   "metadata": {},
   "outputs": [
    {
     "name": "stdout",
     "output_type": "stream",
     "text": [
      "               Hs          Tp         Dir\n",
      "count  721.000000  721.000000  721.000000\n",
      "mean     0.795872    4.108642   74.637088\n",
      "std      0.194862    0.467779   53.507414\n",
      "min      0.444148    3.198732    3.104587\n",
      "25%      0.643597    3.828000   55.300507\n",
      "50%      0.757022    4.052625   63.477585\n",
      "75%      0.930525    4.253168   76.635452\n",
      "max      1.460274    6.355257  357.379883\n"
     ]
    }
   ],
   "source": [
    "print(oleaje_era5.describe())"
   ]
  },
  {
   "cell_type": "code",
   "execution_count": null,
   "id": "e542c5f4",
   "metadata": {},
   "outputs": [],
   "source": []
  }
 ],
 "metadata": {
  "kernelspec": {
   "display_name": "base",
   "language": "python",
   "name": "python3"
  },
  "language_info": {
   "codemirror_mode": {
    "name": "ipython",
    "version": 3
   },
   "file_extension": ".py",
   "mimetype": "text/x-python",
   "name": "python",
   "nbconvert_exporter": "python",
   "pygments_lexer": "ipython3",
   "version": "3.11.5"
  }
 },
 "nbformat": 4,
 "nbformat_minor": 5
}
