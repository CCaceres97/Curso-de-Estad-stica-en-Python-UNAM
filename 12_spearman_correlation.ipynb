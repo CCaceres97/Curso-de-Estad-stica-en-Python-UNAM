{
 "cells": [
  {
   "cell_type": "markdown",
   "id": "81a24e63",
   "metadata": {},
   "source": [
    "## Spearman's Correlation"
   ]
  },
  {
   "cell_type": "code",
   "execution_count": 1,
   "id": "f203a9d1",
   "metadata": {},
   "outputs": [],
   "source": [
    "import os\n",
    "def import_csv(file):\n",
    "    # Read the file into a DataFrame: df\n",
    "    import pandas as pd\n",
    "    return pd.read_csv(file)"
   ]
  },
  {
   "cell_type": "code",
   "execution_count": 2,
   "id": "6e156b6d",
   "metadata": {},
   "outputs": [],
   "source": [
    "# Path to the file to be imported\n",
    "path = os.getcwd()\n",
    "\n",
    "# Import the file\n",
    "CO2Data = import_csv(os.path.join(path, 'Terminos_lagoon_TA_DIC_2023_RawData.csv'))\n"
   ]
  },
  {
   "cell_type": "code",
   "execution_count": 3,
   "id": "65a96659",
   "metadata": {},
   "outputs": [],
   "source": [
    "from scipy import stats\n",
    "\n",
    "def test_spearman(x, y, alpha=0.05):\n",
    "    if len(x) != len(y):\n",
    "        raise ValueError(\"Las variables deben tener la misma longitud.\")\n",
    "\n",
    "    rho, pval = stats.spearmanr(x, y)\n",
    "\n",
    "    print(f\"Spearman's correlation coefficient (rho): {rho:.3f}\")\n",
    "    print(f\"p-value: {pval:.4f}\")\n",
    "\n",
    "    if pval < alpha:\n",
    "        print(f\"✔️ Significant relationship (p < {alpha:.3f})\")\n",
    "    else:\n",
    "        print(f\"⚠️ No significant relationship (p ≥ {alpha:.3f})\")\n",
    "\n",
    "    if rho > 0:\n",
    "        print(\"📈 Positive correlation\")\n",
    "    else:\n",
    "        print(\"📉 Negative correlation\")"
   ]
  },
  {
   "cell_type": "code",
   "execution_count": 4,
   "id": "b6099d32",
   "metadata": {},
   "outputs": [
    {
     "name": "stdout",
     "output_type": "stream",
     "text": [
      "Spearman's correlation coefficient (rho): 0.838\n",
      "p-value: 0.0000\n",
      "✔️ Significant relationship (p < 0.050)\n",
      "📈 Positive correlation\n"
     ]
    }
   ],
   "source": [
    "test_spearman(CO2Data[\"ta_micromol_kg\"], CO2Data[\"dic_micromol_kg\"])"
   ]
  },
  {
   "cell_type": "markdown",
   "id": "ad47e6d1",
   "metadata": {},
   "source": [
    "## Tarea"
   ]
  },
  {
   "cell_type": "code",
   "execution_count": 5,
   "id": "69b847a9",
   "metadata": {},
   "outputs": [
    {
     "name": "stdout",
     "output_type": "stream",
     "text": [
      "Pearson correlation coefficient (r): 0.882\n",
      "P-value: 8.179e-36\n",
      "=> Significant correlation at α=0.05\n"
     ]
    }
   ],
   "source": [
    "from scipy.stats import pearsonr\n",
    "\n",
    "def pearson_correlation(x, y):\n",
    "\n",
    "    r, p_value = pearsonr(x, y)\n",
    "    print(f\"Pearson correlation coefficient (r): {r:.3f}\")\n",
    "    print(f\"P-value: {p_value:.3e}\")\n",
    "    \n",
    "    if p_value < 0.05:\n",
    "        print(\"=> Significant correlation at α=0.05\")\n",
    "    else:\n",
    "        print(\"=> Not significant at α=0.05\")\n",
    "    \n",
    "    return r, p_value\n",
    "\n",
    "\n",
    "# Correlación de Pearson entre DIC y Salinidad\n",
    "r_dic_sal, p_dic_sal = pearson_correlation(CO2Data['ta_micromol_kg'], CO2Data['dic_micromol_kg'])\n"
   ]
  }
 ],
 "metadata": {
  "kernelspec": {
   "display_name": "base",
   "language": "python",
   "name": "python3"
  },
  "language_info": {
   "codemirror_mode": {
    "name": "ipython",
    "version": 3
   },
   "file_extension": ".py",
   "mimetype": "text/x-python",
   "name": "python",
   "nbconvert_exporter": "python",
   "pygments_lexer": "ipython3",
   "version": "3.11.5"
  }
 },
 "nbformat": 4,
 "nbformat_minor": 5
}
