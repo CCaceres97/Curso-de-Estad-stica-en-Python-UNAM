{
 "cells": [
  {
   "cell_type": "markdown",
   "id": "d85bc701",
   "metadata": {},
   "source": [
    "## Normality test"
   ]
  },
  {
   "cell_type": "code",
   "execution_count": 1,
   "id": "e40a7f6a",
   "metadata": {},
   "outputs": [],
   "source": [
    "import os\n",
    "def import_csv(file):\n",
    "    # Read the file into a DataFrame: df\n",
    "    import pandas as pd\n",
    "    return pd.read_csv(file)"
   ]
  },
  {
   "cell_type": "code",
   "execution_count": 3,
   "id": "b977420c",
   "metadata": {},
   "outputs": [
    {
     "name": "stdout",
     "output_type": "stream",
     "text": [
      "   sample      date     estuary   area station layer_depth season  \\\n",
      "0  CDL01S  5/3/2020  Candelaria  River   CDL01     Surface    Dry   \n",
      "1  CDL01F  5/3/2020  Candelaria  River   CDL01      Bottom    Dry   \n",
      "2  CDL02S  5/3/2020  Candelaria  River   CDL02     Surface    Dry   \n",
      "3  CDL02F  5/3/2020  Candelaria  River   CDL02      Bottom    Dry   \n",
      "4  CDL03S  5/3/2020  Candelaria  River   CDL03     Surface    Dry   \n",
      "\n",
      "   chlorophy_microg_l  cond_microsiemens_cm  depth_m  ...  do_mg_l  sal_psu  \\\n",
      "0                0.36                7015.4    0.464  ...     7.12     3.56   \n",
      "1                4.19               29886.1    7.792  ...     4.90    16.97   \n",
      "2                0.92               16691.1    0.453  ...     6.99     8.94   \n",
      "3                2.23               24847.4    1.261  ...     6.52    13.87   \n",
      "4                0.58               46341.6    0.465  ...     6.24    28.06   \n",
      "\n",
      "   sp_cond_microsiemens_cm  turbidity_fnu  temp_c  latitude  longitude  \\\n",
      "0                   6547.7           1.47  28.740  18.55736  -91.25012   \n",
      "1                  27751.2          95.33  29.028  18.55722  -91.24990   \n",
      "2                  15429.1           5.50  29.283  18.61007  -91.24410   \n",
      "3                  23074.0          13.44  29.024  18.61005  -91.24403   \n",
      "4                  43670.8           3.60  28.202  18.63166  -91.29359   \n",
      "\n",
      "   dic_micromol_kg  ta_micromol_kg  dummy_data  \n",
      "0             3915            3863      3685.0  \n",
      "1             3698            3685         NaN  \n",
      "2             3724            3708      3708.0  \n",
      "3             3667            3992      3992.0  \n",
      "4             2928            3023      3023.0  \n",
      "\n",
      "[5 rows x 21 columns]\n"
     ]
    }
   ],
   "source": [
    "# Path to the file to be imported\n",
    "path = os.getcwd()\n",
    "\n",
    "# Import the file\n",
    "CO2Data = import_csv(os.path.join(path, 'Terminos_lagoon_TA_DIC_2023_RawData.csv'))\n",
    "\n",
    "print(CO2Data.head())"
   ]
  },
  {
   "cell_type": "markdown",
   "id": "203ef465",
   "metadata": {},
   "source": [
    "## Shapiro-Wilk test"
   ]
  },
  {
   "cell_type": "code",
   "execution_count": 4,
   "id": "5db30f2e",
   "metadata": {},
   "outputs": [
    {
     "name": "stdout",
     "output_type": "stream",
     "text": [
      "Estadístico= 0.87971, p-valor= 0.00000\n",
      "La distribución NO es normal (se rechaza H0)\n"
     ]
    }
   ],
   "source": [
    "from scipy.stats import shapiro\n",
    "\n",
    "ta = CO2Data['ta_micromol_kg']\n",
    "\n",
    "stat, p = shapiro(ta)\n",
    "print(f'Estadístico= {stat:.5f}, p-valor= {p:.5f}')\n",
    "if p > 0.05:\n",
    "    print(\"La distribución es normal (no se rechaza H0)\")\n",
    "else:\n",
    "    print(\"La distribución NO es normal (se rechaza H0)\")"
   ]
  },
  {
   "cell_type": "code",
   "execution_count": 5,
   "id": "c61c4e24",
   "metadata": {},
   "outputs": [
    {
     "name": "stdout",
     "output_type": "stream",
     "text": [
      "Statistic= 0.87971, p-value= 0.00000\n",
      "The data is not normally distributed (reject H₀).\n"
     ]
    }
   ],
   "source": [
    "from scipy.stats import shapiro \n",
    "\n",
    "#perform Shapiro-Wilk test for normality\n",
    "\n",
    "TA = CO2Data['ta_micromol_kg']\n",
    "\n",
    "shapiro_results = shapiro(TA)\n",
    "\n",
    "\n",
    "print(f'Statistic= {stat:.5f}, p-value= {p:.5f}')\n",
    "\n",
    "if shapiro_results.pvalue < 0.05:\n",
    "    print(\"The data is not normally distributed (reject H₀).\")\n",
    "\n",
    "else:\n",
    "    print(\"The data is normally distributed (fail to reject H₀).\")\n"
   ]
  },
  {
   "cell_type": "code",
   "execution_count": null,
   "id": "9f5d3dfe",
   "metadata": {},
   "outputs": [
    {
     "name": "stdout",
     "output_type": "stream",
     "text": [
      "ShapiroResult(statistic=0.8797112703323364, pvalue=9.071295181684036e-08)\n"
     ]
    }
   ],
   "source": [
    "print(shapiro_results)"
   ]
  },
  {
   "cell_type": "markdown",
   "id": "828e6f2e",
   "metadata": {},
   "source": [
    "## Tarea 1\n",
    "  La prueba de Kolmogorov-Smirnov es mas apropiado usarla cuando la cantidad de datos es mayor a 2000, por lo general, se usa más que la prueba Shapiro-Wilk"
   ]
  },
  {
   "cell_type": "code",
   "execution_count": 8,
   "id": "69436a7f",
   "metadata": {},
   "outputs": [
    {
     "name": "stdout",
     "output_type": "stream",
     "text": [
      "\n",
      "DIC (Dissolved Inorganic Carbon)\n",
      "Shapiro-Wilk statistic = 0.8600, p-value = 0.0000\n",
      "Los datos NO siguen una distribución normal (se rechaza H0).\n",
      "\n",
      "Salinidad (PSU)\n",
      "Shapiro-Wilk statistic = 0.8867, p-value = 0.0000\n",
      "Los datos NO siguen una distribución normal (se rechaza H0).\n"
     ]
    }
   ],
   "source": [
    "import pandas as pd\n",
    "from scipy.stats import shapiro\n",
    "import os\n",
    "\n",
    "dic = CO2Data[\"dic_micromol_kg\"].dropna()\n",
    "sal = CO2Data[\"sal_psu\"].dropna()\n",
    "\n",
    "# --- Test de Shapiro-Wilk ---\n",
    "def shapiro_test(data, name):\n",
    "    stat, p = shapiro(data)\n",
    "    print(f\"\\n{name}\")\n",
    "    print(f\"Shapiro-Wilk statistic = {stat:.4f}, p-value = {p:.4f}\")\n",
    "    if p > 0.05:\n",
    "        print(\"Los datos parecen provenir de una distribución normal (no se rechaza H0).\")\n",
    "    else:\n",
    "        print(\"Los datos NO siguen una distribución normal (se rechaza H0).\")\n",
    "\n",
    "# Aplicar a DIC y Salinidad\n",
    "shapiro_test(dic, \"DIC (Dissolved Inorganic Carbon)\")\n",
    "shapiro_test(sal, \"Salinidad (PSU)\")"
   ]
  }
 ],
 "metadata": {
  "kernelspec": {
   "display_name": "base",
   "language": "python",
   "name": "python3"
  },
  "language_info": {
   "codemirror_mode": {
    "name": "ipython",
    "version": 3
   },
   "file_extension": ".py",
   "mimetype": "text/x-python",
   "name": "python",
   "nbconvert_exporter": "python",
   "pygments_lexer": "ipython3",
   "version": "3.11.5"
  }
 },
 "nbformat": 4,
 "nbformat_minor": 5
}
