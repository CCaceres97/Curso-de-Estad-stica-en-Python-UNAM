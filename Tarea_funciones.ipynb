{
 "cells": [
  {
   "cell_type": "markdown",
   "id": "a00e4a7f",
   "metadata": {},
   "source": [
    "## Tarea Funciones\n"
   ]
  },
  {
   "cell_type": "code",
   "execution_count": 1,
   "id": "4dd94861",
   "metadata": {},
   "outputs": [],
   "source": [
    "def abs_value(x):\n",
    "    \n",
    "    if x < 0:\n",
    "        return -x\n",
    "    return x"
   ]
  },
  {
   "cell_type": "code",
   "execution_count": 2,
   "id": "6df35237",
   "metadata": {},
   "outputs": [
    {
     "name": "stdout",
     "output_type": "stream",
     "text": [
      "8\n",
      "6\n"
     ]
    }
   ],
   "source": [
    "print(abs_value(-8))\n",
    "print(abs_value(6))\n"
   ]
  }
 ],
 "metadata": {
  "kernelspec": {
   "display_name": "base",
   "language": "python",
   "name": "python3"
  },
  "language_info": {
   "codemirror_mode": {
    "name": "ipython",
    "version": 3
   },
   "file_extension": ".py",
   "mimetype": "text/x-python",
   "name": "python",
   "nbconvert_exporter": "python",
   "pygments_lexer": "ipython3",
   "version": "3.11.5"
  }
 },
 "nbformat": 4,
 "nbformat_minor": 5
}
